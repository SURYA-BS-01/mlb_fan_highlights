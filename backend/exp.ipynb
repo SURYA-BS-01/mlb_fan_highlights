{
 "cells": [
  {
   "cell_type": "code",
   "execution_count": null,
   "metadata": {},
   "outputs": [],
   "source": [
    "import time\n",
    "import requests\n",
    "import json\n",
    "\n",
    "def fetch_schedule():\n",
    "    schedule_url = \"https://statsapi.mlb.com/api/v1/schedule?sportId=1&season=2024\"\n",
    "    response = requests.get(schedule_url)\n",
    "    return response.json()\n",
    "\n",
    "def detect_updates(current_data, new_data):\n",
    "    if current_data != new_data:\n",
    "        print(\"New data detected!\")\n",
    "        # Process the updated data here\n",
    "        return new_data\n",
    "    return current_data\n",
    "\n",
    "# Polling loop\n",
    "def start_polling(interval=60):  # Check every 60 seconds\n",
    "    print(\"Starting polling...\")\n",
    "    current_data = fetch_schedule()\n",
    "\n",
    "    while True:\n",
    "        time.sleep(interval)\n",
    "        try:\n",
    "            new_data = fetch_schedule()\n",
    "            new_data['new_data'] = \"New Data\"\n",
    "            current_data = detect_updates(current_data, new_data)\n",
    "        except Exception as e:\n",
    "            print(f\"Error fetching data: {e}\")\n",
    "\n",
    "start_polling()\n"
   ]
  }
 ],
 "metadata": {
  "kernelspec": {
   "display_name": "Python 3",
   "language": "python",
   "name": "python3"
  },
  "language_info": {
   "name": "python",
   "version": "3.13.1"
  }
 },
 "nbformat": 4,
 "nbformat_minor": 2
}
