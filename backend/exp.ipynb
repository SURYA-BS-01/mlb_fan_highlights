{
 "cells": [
  {
   "cell_type": "code",
   "execution_count": null,
   "metadata": {},
   "outputs": [
    {
     "name": "stdout",
     "output_type": "stream",
     "text": [
      "Starting polling...\n",
      "New data detected!\n"
     ]
    }
   ],
   "source": [
    "import time\n",
    "import requests\n",
    "import json\n",
    "\n",
    "def fetch_schedule():\n",
    "    schedule_url = \"https://statsapi.mlb.com/api/v1/schedule?sportId=1&season=2024\"\n",
    "    response = requests.get(schedule_url)\n",
    "    return response.json()\n",
    "\n",
    "def detect_updates(current_data, new_data):\n",
    "    if current_data != new_data:\n",
    "        print(\"New data detected!\")\n",
    "        # Process the updated data here\n",
    "        return new_data\n",
    "    return current_data\n",
    "\n",
    "# Polling loop\n",
    "def start_polling(interval=60):  # Check every 60 seconds\n",
    "    print(\"Starting polling...\")\n",
    "    current_data = fetch_schedule()\n",
    "\n",
    "    while True:\n",
    "        time.sleep(interval)\n",
    "        try:\n",
    "            new_data = fetch_schedule()\n",
    "            new_data['new_data'] = \"New Data\"\n",
    "            current_data = detect_updates(current_data, new_data)\n",
    "        except Exception as e:\n",
    "            print(f\"Error fetching data: {e}\")\n",
    "\n",
    "start_polling()\n"
   ]
  },
  {
   "cell_type": "code",
   "execution_count": 1,
   "metadata": {},
   "outputs": [],
   "source": [
    "from utils import process_endpoint_url\n",
    "import pandas as pd\n",
    "import json\n",
    "import requests\n",
    "\n",
    "class DataIngestion:\n",
    "    def __init__(self):\n",
    "        pass\n",
    "\n",
    "    def initiate_data_ingestion(self):\n",
    "        game_pk = self.latest_completed_game()\n",
    "        game_data = self.get_single_game_data(game_pk)\n",
    "        return game_data\n",
    "\n",
    "    def latest_completed_game(self):\n",
    "        schedule_endpoint_url = 'https://statsapi.mlb.com/api/v1/schedule?sportId=1&season=2024'\n",
    "        \n",
    "        # Fetch schedule data\n",
    "        schedule_dates = process_endpoint_url(schedule_endpoint_url, \"dates\")\n",
    "\n",
    "        # Normalize games data into a DataFrame\n",
    "        games = pd.json_normalize(\n",
    "            schedule_dates.explode('games').reset_index(drop=True)['games']\n",
    "        )\n",
    "\n",
    "        date_columns = [\n",
    "            \"gameDate\",\n",
    "            \"officialDate\",\n",
    "            \"rescheduleDate\",\n",
    "            \"rescheduleGameDate\",\n",
    "            \"rescheduledFromDate\",\n",
    "            \"resumeDate\",\n",
    "            \"resumeGameDate\",\n",
    "            \"resumedFromDate\"\n",
    "        ]\n",
    "\n",
    "        # Convert the specified columns to datetime\n",
    "        for col in date_columns:\n",
    "            games[col] = pd.to_datetime(games[col], errors='coerce')\n",
    "\n",
    "        # Filter for completed games\n",
    "        completed_games = games[\n",
    "            games['status.detailedState'].isin(['Final', 'Completed Early'])\n",
    "        ]\n",
    "\n",
    "        # Get the most recent completed game\n",
    "        completed_games = completed_games.sort_values(by='gameDate', ascending=False)\n",
    "        latest_game = completed_games.iloc[0]\n",
    "\n",
    "        return latest_game['gamePk']\n",
    "    \n",
    "    \n",
    "    def get_single_game_data(self, game_pk):\n",
    "        single_game_feed_url = f'https://statsapi.mlb.com/api/v1.1/game/{game_pk}/feed/live'\n",
    "\n",
    "        single_game_info_json = json.loads(requests.get(single_game_feed_url).content)\n",
    "\n",
    "        return single_game_info_json\n",
    "    \n",
    "    def get_games_between_dates(self, start_date, end_date):\n",
    "        \"\"\"\n",
    "        Fetches all games and filters them between the specified start and end dates.\n",
    "\n",
    "        Args:\n",
    "            start_date (str): The start date in the format 'YYYY-MM-DD'.\n",
    "            end_date (str): The end date in the format 'YYYY-MM-DD'.\n",
    "\n",
    "        Returns:\n",
    "            DataFrame: A DataFrame containing games between the specified dates.\n",
    "        \"\"\"\n",
    "        schedule_endpoint_url = 'https://statsapi.mlb.com/api/v1/schedule?sportId=1&season=2024'\n",
    "\n",
    "        # Fetch all schedule data\n",
    "        schedule_dates = process_endpoint_url(schedule_endpoint_url, \"dates\")\n",
    "\n",
    "        # Normalize games data into a DataFrame\n",
    "        games = pd.json_normalize(\n",
    "            schedule_dates.explode('games').reset_index(drop=True)['games']\n",
    "        )\n",
    "\n",
    "        date_columns = [\n",
    "            \"gameDate\",\n",
    "            \"officialDate\",\n",
    "            \"rescheduleDate\",\n",
    "            \"rescheduleGameDate\",\n",
    "            \"rescheduledFromDate\",\n",
    "            \"resumeDate\",\n",
    "            \"resumeGameDate\",\n",
    "            \"resumedFromDate\"\n",
    "        ]\n",
    "\n",
    "        # Convert relevant columns to datetime\n",
    "        for col in date_columns:\n",
    "            games[col] = pd.to_datetime(games[col], errors='coerce')\n",
    "\n",
    "        # Filter games by 'gameDate' within the specified range\n",
    "        start_date = pd.to_datetime(start_date).tz_localize('UTC')\n",
    "        end_date = pd.to_datetime(end_date).tz_localize('UTC')\n",
    "\n",
    "        filtered_games = games[\n",
    "            (games['gameDate'] >= start_date) & (games['gameDate'] <= end_date)\n",
    "        ]\n",
    "\n",
    "        return filtered_games\n",
    "\n",
    "    \n",
    "\n",
    "data_ingestion = DataIngestion()\n",
    "game_data = data_ingestion.initiate_data_ingestion()\n",
    "\n"
   ]
  },
  {
   "cell_type": "code",
   "execution_count": 8,
   "metadata": {},
   "outputs": [
    {
     "data": {
      "text/plain": [
       "'New York Yankees'"
      ]
     },
     "execution_count": 8,
     "metadata": {},
     "output_type": "execute_result"
    }
   ],
   "source": [
    "game_data['gameData']['teams']['home']['name']"
   ]
  },
  {
   "cell_type": "code",
   "execution_count": 35,
   "metadata": {},
   "outputs": [
    {
     "name": "stdout",
     "output_type": "stream",
     "text": [
      "2024-04-01 00:00:00+00:00\n"
     ]
    }
   ],
   "source": [
    "start_date = pd.to_datetime(start_date).tz_localize('UTC')\n",
    "end_date = pd.to_datetime(end_date).tz_localize('UTC')\n",
    "print(start_date)\n"
   ]
  },
  {
   "cell_type": "code",
   "execution_count": 39,
   "metadata": {},
   "outputs": [],
   "source": [
    "data_ingestion = DataIngestion()\n",
    "game_data = data_ingestion.initiate_data_ingestion()\n"
   ]
  },
  {
   "cell_type": "code",
   "execution_count": 44,
   "metadata": {},
   "outputs": [
    {
     "name": "stdout",
     "output_type": "stream",
     "text": [
      "2024-10-31T00:08:00Z\n"
     ]
    }
   ],
   "source": [
    "print((game_data[\"gameData\"][\"datetime\"][\"dateTime\"]))"
   ]
  },
  {
   "cell_type": "code",
   "execution_count": 43,
   "metadata": {},
   "outputs": [
    {
     "name": "stdout",
     "output_type": "stream",
     "text": [
      "<class 'pandas._libs.tslibs.timestamps.Timestamp'>\n"
     ]
    }
   ],
   "source": [
    "print(pd.to_datetime(game_data[\"gameData\"][\"datetime\"][\"dateTime\"]).tz_convert('UTC'))"
   ]
  },
  {
   "cell_type": "code",
   "execution_count": 7,
   "metadata": {},
   "outputs": [
    {
     "data": {
      "text/plain": [
       "'**GenAI, short for Generative AI, refers to a category of artificial intelligence algorithms and models that are designed to *generate* new content, rather than simply analyzing or acting upon existing data.**\\n\\nThink of traditional AI as being good at tasks like:\\n\\n* **Classification:** Identifying if an image is a cat or a dog.\\n* **Prediction:**  Predicting stock prices based on historical data.\\n* **Automation:**  Automating repetitive tasks based on predefined rules.\\n\\n**GenAI, on the other hand, is about creation.** It\\'s about building AI that can produce things that resemble human creativity and output, such as:\\n\\n* **Text:** Writing articles, poems, code, scripts, emails, chat responses, and more.\\n* **Images:** Creating realistic photos, artwork, illustrations, logos, and even manipulating existing images.\\n* **Audio:** Generating music, speech, sound effects, and voiceovers.\\n* **Video:** Producing animations, short clips, and even attempting to create longer video content (though this is still developing).\\n* **3D Models:** Designing objects, characters, and environments for games, virtual reality, and design purposes.\\n* **Code:** Writing software code in various programming languages.\\n* **Data:**  Generating synthetic datasets for training other AI models or for simulations.\\n\\n**Here\\'s a breakdown of the key aspects of GenAI:**\\n\\n* **Learning from Data:** GenAI models are typically trained on massive datasets of existing content (text, images, audio, etc.). They learn the patterns, structures, and styles within this data.\\n* **Generating New Content:** Once trained, these models can generate new content that resembles the data they were trained on.  They don\\'t just copy and paste; they create *novel* outputs based on learned patterns.\\n* **Variety of Techniques:** GenAI utilizes various techniques, but some of the most prominent include:\\n    * **Large Language Models (LLMs):**  Like GPT-3, GPT-4, and LaMDA, these are used for generating text, code, and even translating languages.\\n    * **Diffusion Models:**  Popular for image generation (like DALL-E 2, Stable Diffusion, Midjourney), these models work by reversing a process of adding noise to images to create new ones.\\n    * **Generative Adversarial Networks (GANs):**  These involve two neural networks competing against each other (a \"generator\" and a \"discriminator\") to create increasingly realistic outputs, particularly in images and videos.\\n    * **Variational Autoencoders (VAEs):** These learn compressed representations of data and can generate new samples by sampling from this compressed space.\\n* **Prompt-Based:**  Many GenAI models are \"prompt-based.\" This means you provide a textual prompt, instruction, or context, and the model generates content based on that prompt.  For example, you might prompt an image GenAI with \"a photo of a cat wearing sunglasses riding a unicorn\" and it will create an image based on that description.\\n\\n**Why is GenAI important and impactful?**\\n\\n* **Democratization of Creativity:** GenAI tools can empower individuals who may not have traditional skills in art, writing, or music to create content.\\n* **Automation and Efficiency:** GenAI can automate content creation tasks, saving time and resources for businesses and individuals.\\n* **New Forms of Expression:** GenAI opens up new possibilities for creative expression and artistic exploration.\\n* **Problem Solving and Innovation:** GenAI can be used for tasks like designing new products, generating ideas, and even accelerating scientific discovery.\\n\\n**However, it\\'s also important to be aware of the limitations and ethical considerations of GenAI:**\\n\\n* **Accuracy and Factuality:** GenAI models can sometimes generate incorrect or nonsensical information, especially in text generation.\\n* **Bias:** GenAI models can inherit biases from their training data, leading to outputs that reflect societal prejudices.\\n* **Copyright and Ownership:**  Questions arise about who owns the copyright to content generated by AI.\\n* **Misinformation and Deepfakes:** GenAI can be used to create realistic fake images, videos, and text, which can be used for malicious purposes.\\n* **Job Displacement:** There are concerns about the potential for GenAI to automate tasks currently performed by human creatives.\\n\\n**In summary, GenAI is a powerful and rapidly evolving field of AI that is transforming how we create and interact with content. It has immense potential for good, but also requires careful consideration of its ethical and societal implications.**'"
      ]
     },
     "execution_count": 7,
     "metadata": {},
     "output_type": "execute_result"
    }
   ],
   "source": [
    "from google import genai\n",
    "from dotenv import load_dotenv\n",
    "import os\n",
    "\n",
    "load_dotenv()\n",
    "API_KEY = os.getenv(\"API_KEY\")\n",
    "\n",
    "def generate_text(prompt):\n",
    "    client = genai.Client(api_key=API_KEY, http_options={'api_version': 'v1alpha'})\n",
    "    text = \"\"\n",
    "    for chunk in client.models.generate_content_stream(\n",
    "        model='gemini-2.0-flash-thinking-exp', contents=prompt\n",
    "    ):\n",
    "        for part in chunk.candidates[0].content.parts:\n",
    "            if not part.thought:\n",
    "                text += part.text\n",
    "    return text\n",
    "\n",
    "generate_text(\"What is genAI\")"
   ]
  },
  {
   "cell_type": "code",
   "execution_count": 39,
   "metadata": {},
   "outputs": [
    {
     "data": {
      "text/plain": [
       "datetime.date(2024, 10, 31)"
      ]
     },
     "execution_count": 39,
     "metadata": {},
     "output_type": "execute_result"
    }
   ],
   "source": [
    "from datetime import datetime\n",
    "\n",
    "date_str = \"2024-10-31T00:08:00Z\"\n",
    "date_obj = datetime.strptime(date_str, \"%Y-%m-%dT%H:%M:%SZ\")  # Parse full datetime\n",
    "date_only = date_obj.date()  # Extract only the date part\n",
    "\n",
    "date_only"
   ]
  },
  {
   "cell_type": "code",
   "execution_count": 43,
   "metadata": {},
   "outputs": [
    {
     "name": "stdout",
     "output_type": "stream",
     "text": [
      "2024-10-31 2024-10-31\n",
      "True\n"
     ]
    }
   ],
   "source": [
    "from datetime import datetime, timezone\n",
    "\n",
    "date_str = \"2024-10-31T00:08:00Z\"\n",
    "date_obj = datetime.strptime(date_str, \"%Y-%m-%dT%H:%M:%SZ\")  # Parse full datetime\n",
    "date_only = date_obj.date()  # Extract only the date part\n",
    "\n",
    "start = \"2024-10-31\"\n",
    "start_date = datetime.strptime(start, \"%Y-%m-%d\").date()  # Convert string to date\n",
    "\n",
    "print(date_only, start_date)\n",
    "print(date_only == start_date)  # Output: True\n"
   ]
  },
  {
   "cell_type": "code",
   "execution_count": 40,
   "metadata": {},
   "outputs": [
    {
     "data": {
      "text/plain": [
       "datetime.date(2024, 10, 31)"
      ]
     },
     "execution_count": 40,
     "metadata": {},
     "output_type": "execute_result"
    }
   ],
   "source": [
    "start = \"2024-10-31\"\n",
    "datetime.strptime(start, \"%Y-%m-%d\").date()\n"
   ]
  },
  {
   "cell_type": "code",
   "execution_count": 41,
   "metadata": {},
   "outputs": [
    {
     "data": {
      "text/plain": [
       "False"
      ]
     },
     "execution_count": 41,
     "metadata": {},
     "output_type": "execute_result"
    }
   ],
   "source": [
    "date_only == start"
   ]
  },
  {
   "cell_type": "code",
   "execution_count": 23,
   "metadata": {},
   "outputs": [
    {
     "data": {
      "text/plain": [
       "datetime.date(2024, 10, 31)"
      ]
     },
     "execution_count": 23,
     "metadata": {},
     "output_type": "execute_result"
    }
   ],
   "source": [
    "start = \"2024-10-31\"\n",
    "datetime.strptime(start, \"%Y-%m-%d\").replace(tzinfo=timezone.utc).date()"
   ]
  },
  {
   "cell_type": "code",
   "execution_count": 10,
   "metadata": {},
   "outputs": [],
   "source": [
    "import datetime"
   ]
  },
  {
   "cell_type": "code",
   "execution_count": 11,
   "metadata": {},
   "outputs": [],
   "source": [
    "json_data = {'title': 'Dodgers Edge Out Yankees in Thrilling Subway Series Showdown!', 'sections': [{'heading': 'Introduction', 'content': 'Yankee Stadium was electric as the Los Angeles Dodgers and New York Yankees clashed in a highly anticipated matchup. With partly cloudy skies, a comfortable 67 degrees, and a gentle breeze blowing out to left field, the stage was perfectly set for a classic baseball battle. Fans were on the edge of their seats, and neither team disappointed, delivering a back-and-forth thriller that kept everyone guessing until the final out.'}, {'heading': 'Game Highlights', 'content': \"The game started with a bang in the bottom of the first. Yankees' slugger Aaron Judge launched a two-run homer to right-center, bringing Juan Soto home and sending the Yankee faithful into a frenzy.  Moments later, Jazz Chisholm Jr. followed suit with a solo shot to right-center, extending the Yankees' early lead to 3-0.  In the second inning, Anthony Volpe doubled, advanced to third, and then Alex Verdugo singled sharply to right, scoring Volpe and making it 4-0 Yankees.  Giancarlo Stanton joined the home run derby in the third, belting a solo homer to right field, pushing the lead to a seemingly comfortable 5-0. However, the Dodgers were far from done.  The top of the fifth inning saw a dramatic shift. Enrique Hernández singled, and a fielding error put runners on base.  Mookie Betts then grounded a single to first, scoring Hernández and initiating the rally. Freddie Freeman followed with a clutch line drive single to center, driving in two more runs.  The momentum fully swung when Teoscar Hernández ripped a double to center, plating Betts and Freeman and suddenly giving the Dodgers a 7-5 lead!  This explosive inning completely changed the complexion of the game.  The Yankees responded in the bottom of the sixth when Giancarlo Stanton hit a sacrifice fly to center, scoring Juan Soto and narrowing the gap to 7-6.  In the eighth, the Dodgers added insurance runs via sacrifice flies from Gavin Lux and Mookie Betts, each driving in a run. These runs proved vital as the Yankees couldn't muster another comeback, sealing a hard-fought 7-6 victory for Los Angeles.\"}, {'heading': 'Key Players', 'content': \"For the Dodgers, Mookie Betts was instrumental, driving in crucial runs and consistently finding ways to get on base, showcasing his leadoff hitter prowess. Freddie Freeman delivered a timely two-RBI single during the pivotal fifth-inning rally, demonstrating his clutch hitting ability. Teoscar Hernández's double was arguably the biggest hit of the game, driving in two runs and completing the Dodgers' comeback.  On the Yankees side, Aaron Judge provided the initial spark with his two-run home run and later added a double, proving his status as a premier power hitter. Giancarlo Stanton contributed significantly with a home run and a sacrifice fly, accounting for two of the Yankees' six runs and displaying his consistent offensive threat. Jazz Chisholm Jr.'s early solo home run also added to the Yankees' initial surge, highlighting his ability to change the game with one swing.\"}], 'links': [{'Aaron Judge homers': 'https://www.mlb.com/video/search?q=playid=\"08286940-26d1-411d-b53c-1897085657ac\"'}, {'Jazz Chisholm Jr. homers': 'https://www.mlb.com/video/search?q=playid=\"b21f2da5-a381-40c4-8141-f7f451ae01da\"'}, {'Alex Verdugo RBI Single': 'https://www.mlb.com/video/search?q=playid=\"b1d9e59d-24ae-4ca4-bf1f-a8c590d0cf05\"'}, {'Giancarlo Stanton solo homer': 'https://www.mlb.com/video/search?q=playid=\"01d4ea9b-8945-425c-94a1-374cb051b7fb\"'}, {'Mookie Betts RBI Single': 'https://www.mlb.com/video/search?q=playid=\"09d1035c-1e51-4905-b163-1dfe21f16fec\"'}, {'Freddie Freeman 2-RBI Single': 'https://www.mlb.com/video/search?q=playid=\"fba35e51-ca2c-4111-a61c-11300222f434\"'}, {'Teoscar Hernández 2-RBI Double': 'https://www.mlb.com/video/search?q=playid=\"f51badfa-6a51-4045-8a93-a2b2d49e0ad6\"'}, {'Giancarlo Stanton Sac Fly RBI': 'https://www.mlb.com/video/search?q=playid=\"f40d8e7a-14fe-415d-8dd9-63af4ed9d519\"'}, {'Gavin Lux Sac Fly RBI': 'https://www.mlb.com/video/search?q=playid=\"92781ed2-1ad7-41cd-844a-d8c1a1451b13\"'}, {'Mookie Betts Sac Fly RBI': 'https://www.mlb.com/video/search?q=playid=\"2137382a-1047-4bee-b27a-da06e0909bda\"'}], 'conclusion': \"This Dodgers-Yankees clash was a true testament to baseball's excitement, showcasing power hitting and dramatic comebacks. The Dodgers demonstrated resilience to overcome an early deficit and secure a thrilling 7-6 victory on the road.  Relive all the key moments by clicking the video highlights above and share your thoughts on this instant classic in the comments below!  Stay locked in for more MLB action!\", 'created_at': datetime.datetime(2025, 2, 1, 5, 29, 46, 852597), 'game_date': '2024-10-31', 'team_home': 'New York Yankees', 'team_away': 'Los Angeles Dodgers'}"
   ]
  },
  {
   "cell_type": "code",
   "execution_count": 12,
   "metadata": {},
   "outputs": [
    {
     "name": "stdout",
     "output_type": "stream",
     "text": [
      "{'title': 'Dodgers Edge Out Yankees in Thrilling Subway Series Showdown!', 'sections': [{'heading': 'Introduction', 'content': 'Yankee Stadium was electric as the Los Angeles Dodgers and New York Yankees clashed in a highly anticipated matchup. With partly cloudy skies, a comfortable 67 degrees, and a gentle breeze blowing out to left field, the stage was perfectly set for a classic baseball battle. Fans were on the edge of their seats, and neither team disappointed, delivering a back-and-forth thriller that kept everyone guessing until the final out.'}, {'heading': 'Game Highlights', 'content': \"The game started with a bang in the bottom of the first. Yankees' slugger Aaron Judge launched a two-run homer to right-center, bringing Juan Soto home and sending the Yankee faithful into a frenzy.  Moments later, Jazz Chisholm Jr. followed suit with a solo shot to right-center, extending the Yankees' early lead to 3-0.  In the second inning, Anthony Volpe doubled, advanced to third, and then Alex Verdugo singled sharply to right, scoring Volpe and making it 4-0 Yankees.  Giancarlo Stanton joined the home run derby in the third, belting a solo homer to right field, pushing the lead to a seemingly comfortable 5-0. However, the Dodgers were far from done.  The top of the fifth inning saw a dramatic shift. Enrique Hernández singled, and a fielding error put runners on base.  Mookie Betts then grounded a single to first, scoring Hernández and initiating the rally. Freddie Freeman followed with a clutch line drive single to center, driving in two more runs.  The momentum fully swung when Teoscar Hernández ripped a double to center, plating Betts and Freeman and suddenly giving the Dodgers a 7-5 lead!  This explosive inning completely changed the complexion of the game.  The Yankees responded in the bottom of the sixth when Giancarlo Stanton hit a sacrifice fly to center, scoring Juan Soto and narrowing the gap to 7-6.  In the eighth, the Dodgers added insurance runs via sacrifice flies from Gavin Lux and Mookie Betts, each driving in a run. These runs proved vital as the Yankees couldn't muster another comeback, sealing a hard-fought 7-6 victory for Los Angeles.\"}, {'heading': 'Key Players', 'content': \"For the Dodgers, Mookie Betts was instrumental, driving in crucial runs and consistently finding ways to get on base, showcasing his leadoff hitter prowess. Freddie Freeman delivered a timely two-RBI single during the pivotal fifth-inning rally, demonstrating his clutch hitting ability. Teoscar Hernández's double was arguably the biggest hit of the game, driving in two runs and completing the Dodgers' comeback.  On the Yankees side, Aaron Judge provided the initial spark with his two-run home run and later added a double, proving his status as a premier power hitter. Giancarlo Stanton contributed significantly with a home run and a sacrifice fly, accounting for two of the Yankees' six runs and displaying his consistent offensive threat. Jazz Chisholm Jr.'s early solo home run also added to the Yankees' initial surge, highlighting his ability to change the game with one swing.\"}], 'links': [{'Aaron Judge homers': 'https://www.mlb.com/video/search?q=playid=\"08286940-26d1-411d-b53c-1897085657ac\"'}, {'Jazz Chisholm Jr. homers': 'https://www.mlb.com/video/search?q=playid=\"b21f2da5-a381-40c4-8141-f7f451ae01da\"'}, {'Alex Verdugo RBI Single': 'https://www.mlb.com/video/search?q=playid=\"b1d9e59d-24ae-4ca4-bf1f-a8c590d0cf05\"'}, {'Giancarlo Stanton solo homer': 'https://www.mlb.com/video/search?q=playid=\"01d4ea9b-8945-425c-94a1-374cb051b7fb\"'}, {'Mookie Betts RBI Single': 'https://www.mlb.com/video/search?q=playid=\"09d1035c-1e51-4905-b163-1dfe21f16fec\"'}, {'Freddie Freeman 2-RBI Single': 'https://www.mlb.com/video/search?q=playid=\"fba35e51-ca2c-4111-a61c-11300222f434\"'}, {'Teoscar Hernández 2-RBI Double': 'https://www.mlb.com/video/search?q=playid=\"f51badfa-6a51-4045-8a93-a2b2d49e0ad6\"'}, {'Giancarlo Stanton Sac Fly RBI': 'https://www.mlb.com/video/search?q=playid=\"f40d8e7a-14fe-415d-8dd9-63af4ed9d519\"'}, {'Gavin Lux Sac Fly RBI': 'https://www.mlb.com/video/search?q=playid=\"92781ed2-1ad7-41cd-844a-d8c1a1451b13\"'}, {'Mookie Betts Sac Fly RBI': 'https://www.mlb.com/video/search?q=playid=\"2137382a-1047-4bee-b27a-da06e0909bda\"'}], 'conclusion': \"This Dodgers-Yankees clash was a true testament to baseball's excitement, showcasing power hitting and dramatic comebacks. The Dodgers demonstrated resilience to overcome an early deficit and secure a thrilling 7-6 victory on the road.  Relive all the key moments by clicking the video highlights above and share your thoughts on this instant classic in the comments below!  Stay locked in for more MLB action!\", 'created_at': datetime.datetime(2025, 2, 1, 5, 29, 46, 852597), 'game_date': '2024-10-31', 'team_home': 'New York Yankees', 'team_away': 'Los Angeles Dodgers'}\n"
     ]
    }
   ],
   "source": [
    "print(json_data)"
   ]
  },
  {
   "cell_type": "code",
   "execution_count": null,
   "metadata": {},
   "outputs": [],
   "source": [
    "{\n",
    "    \"title\": \"arsga\",\n",
    "    \"team_away\": \"argaer\",\n",
    "    \"team_home\": \"aerg\",\n",
    "    \"game_date\": \"2025-02-01\",\n",
    "    \"sections\": [\n",
    "        {\n",
    "            \"heading\": \"arg\",\n",
    "            \"content\": \"aegr\"\n",
    "        },\n",
    "        {\n",
    "            \"heading\": \"aerg\",\n",
    "            \"content\": \"aeerg\"\n",
    "        }\n",
    "    ],\n",
    "    \"conclusion\": \"aergaerg\"\n",
    "}"
   ]
  },
  {
   "cell_type": "code",
   "execution_count": null,
   "metadata": {},
   "outputs": [],
   "source": [
    "{\n",
    "    \"title\": \"Dodgers Edge Out Yankees in Thrilling 7-6 Slugfest at Yankee Stadium\",\n",
    "    \"sections\": [\n",
    "        {\n",
    "            \"heading\": \"Introduction\",\n",
    "            \"content\": \"Under partly cloudy skies and a comfortable 67 degrees, with a gentle 5 mph breeze blowing out to left field, Yankee Stadium was the stage for a classic Los Angeles Dodgers versus New York Yankees showdown. This wasn't just any game; it was a back-and-forth battle that kept fans on the edge of their seats until the very last out.  Both teams brought their offensive firepower, resulting in a high-scoring affair that ultimately saw the Dodgers narrowly escape with a 7-6 victory over the Bronx Bombers. From explosive home runs to clutch hits, this game had it all, showcasing the best of baseball's drama and excitement.\"\n",
    "        },\n",
    "        {\n",
    "            \"heading\": \"Game Highlights\",\n",
    "            \"content\": \"The game started with a bang in the bottom of the first inning as Aaron Judge launched a two-run homer to right-center, immediately putting the Yankees ahead. Not to be outdone, Jazz Chisholm Jr. followed up with a solo shot to the same part of the park, extending the Yankees' lead to 3-0 before many fans had even settled into their seats. The Yankees continued to apply pressure in the second when Alex Verdugo lined a single to right, scoring Anthony Volpe and making it 4-0. Giancarlo Stanton joined the home run party in the third, belting a solo homer to right field, seemingly giving the Yankees a commanding 5-0 advantage. \\n\\nHowever, the Dodgers, known for their resilience, began their comeback in the fifth inning. Mookie Betts ignited the rally with a ground ball single that scored Enrique Hernández, cutting into the lead. Freddie Freeman followed with a line drive single to center, bringing home Tommy Edman and Will Smith, further narrowing the gap. The inning culminated with Teoscar Hernández ripping a sharp double to center, scoring both Betts and Freeman, and incredibly, the Dodgers had surged ahead 5-4.  \\n\\nThe Yankees responded swiftly in the sixth when Giancarlo Stanton drove in Juan Soto with a sacrifice fly to center, tying the game once again at 5-5.  The tension mounted as the game progressed into the later innings. In the eighth, the Dodgers manufactured runs with sacrifice flies from Gavin Lux and Mookie Betts, each scoring Enrique Hernández and Tommy Edman respectively, to regain a 7-5 lead.  The Yankees weren't done yet. In the bottom of the eighth, Aaron Judge doubled sharply to left, driving in a run and pulling the Yankees within one, 7-6. Despite threatening, the Yankees couldn't complete the comeback, as the Dodgers' pitching held firm in the ninth, securing a hard-fought 7-6 victory in a game filled with twists and turns.\"\n",
    "        },\n",
    "        {\n",
    "            \"heading\": \"Key Players\",\n",
    "            \"content\": \"For the Dodgers, Mookie Betts was a standout performer, driving in crucial runs with a single and a sacrifice fly, consistently putting himself in scoring positions and making plays happen. Freddie Freeman also had a significant impact with his key RBI single during the Dodgers' fifth-inning rally. Teoscar Hernández's timely double drove in two crucial runs, proving to be a game-changer. On the Yankees side, Aaron Judge was undeniably the offensive powerhouse, launching a two-run homer and a run-scoring double, along with drawing walks and consistently being a threat at the plate. Giancarlo Stanton contributed significantly with two home runs and a sacrifice fly, driving in a total of three runs and showcasing his power. Jazz Chisholm Jr.'s leadoff home run set an early energetic tone for the Yankees, demonstrating his ability to spark the offense. Alex Verdugo's RBI single also played a part in the Yankees' early lead, highlighting his contribution to the team's offensive efforts.\"\n",
    "        }\n",
    "    ],\n",
    "    \"links\": [\n",
    "        {\n",
    "            \"Aaron Judge's Opening Homer\": \"https://www.mlb.com/video/search?q=playid=\\\"08286940-26d1-411d-b53c-1897085657ac\\\"\",\n",
    "            \"Chisholm Jr.'s Follow-Up Home Run\": \"https://www.mlb.com/video/search?q=playid=\\\"b21f2da5-a381-40c4-8141-f7f451ae01da\\\"\",\n",
    "            \"Verdugo Extends Yankees Lead\": \"https://www.mlb.com/video/search?q=playid=\\\"b1d9e59d-24ae-4ca4-bf1f-a8c590d0cf05\\\"\",\n",
    "            \"Stanton's Solo Shot\": \"https://www.mlb.com/video/search?q=playid=\\\"01d4ea9b-8945-425c-94a1-374cb051b7fb\\\"\",\n",
    "            \"Betts Starts Dodgers Rally\": \"https://www.mlb.com/video/search?q=playid=\\\"09d1035c-1e51-4905-b163-1dfe21f16fec\\\"\",\n",
    "            \"Freeman Ties the Game\": \"https://www.mlb.com/video/search?q=playid=\\\"fba35e51-ca2c-4111-a61c-11300222f434\\\"\",\n",
    "            \"Teoscar Hernández Gives Dodgers the Lead\": \"https://www.mlb.com/video/search?q=playid=\\\"f51badfa-6a51-4045-8a93-a2b2d49e0ad6\\\"\",\n",
    "            \"Stanton's Sacrifice Fly Ties It Up\": \"https://www.mlb.com/video/search?q=playid=\\\"f40d8e7a-14fe-415d-8dd9-63af4ed9d519\\\"\",\n",
    "            \"Lux Sac Fly Nabs Lead\": \"https://www.mlb.com/video/search?q=playid=\\\"92781ed2-1ad7-41cd-844a-d8c1a1451b13\\\"\",\n",
    "            \"Betts Extends Lead with Sac Fly\": \"https://www.mlb.com/video/search?q=playid=\\\"2137382a-1047-4bee-b27a-da06e0909bda\\\"\"\n",
    "        }\n",
    "    ],\n",
    "    \"conclusion\": \"What a game! The Dodgers and Yankees delivered a true baseball spectacle, packed with home runs, clutch hits, and nail-biting tension.  Ultimately, the Dodgers emerged victorious in this high-scoring contest, but both teams showcased their offensive firepower.  If you missed any of the action, be sure to check out the video highlights above and relive the excitement.  Let us know in the comments what your favorite moment of this thrilling game was!\",\n",
    "    \"game_date\": \"2024-10-31\",\n",
    "    \"team_home\": \"New York Yankees\",\n",
    "    \"team_away\": \"Los Angeles Dodgers\"\n",
    "}"
   ]
  }
 ],
 "metadata": {
  "kernelspec": {
   "display_name": "Python 3",
   "language": "python",
   "name": "python3"
  },
  "language_info": {
   "codemirror_mode": {
    "name": "ipython",
    "version": 3
   },
   "file_extension": ".py",
   "mimetype": "text/x-python",
   "name": "python",
   "nbconvert_exporter": "python",
   "pygments_lexer": "ipython3",
   "version": "3.13.1"
  }
 },
 "nbformat": 4,
 "nbformat_minor": 2
}
