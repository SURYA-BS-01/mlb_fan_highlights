{
 "cells": [
  {
   "cell_type": "code",
   "execution_count": 14,
   "metadata": {},
   "outputs": [],
   "source": [
    "import re\n",
    "def reformat_text(text):\n",
    "    match = str(re.search(r\"{.*}\", text, re.DOTALL))\n",
    "    if match:\n",
    "        extracted_json = match.group(0)  # Extract the JSON content\n",
    "        extracted_json.strip()  # Strip any extra whitespace\n",
    "    else:\n",
    "        return None\n",
    "    extracted_json = re.sub(r\"\\*.*?\\*\", \"\", extracted_json)  # Remove asterisks\n",
    "    extracted_json = extracted_json.strip()\n",
    "    return extracted_json\n",
    "\n",
    "\n",
    "text = \"\"\"```json\n",
    "{\n",
    "  \"title\": \"Rangers and Angels Trade Blows in High-Scoring Affair!\",\n",
    "  \"sections\": [\n",
    "    {\n",
    "      \"heading\": \"Introduction\",\n",
    "      \"content\": \"What a game down at Angel Stadium! The Texas Rangers and Los Angeles Angels went toe-to-toe in a real slugfest under clear skies and a comfortable 71 degrees. With a gentle breeze blowing from right to left, you just knew the bats were going to be alive, and they absolutely were! Buckle up for the highlights of this back-and-forth battle.\"\n",
    "    },\n",
    "    {\n",
    "      \"heading\": \"Game Highlights\",\n",
    "      \"content\": \"The scoring kicked off in the top of the 2nd when Nathaniel Lowe launched a solo shot to right-center, putting the Rangers on the board first. But the Angels responded immediately in the bottom half. Michael Stefanic ripped a ground-rule double to left, scoring Logan O'Hoppe. Then, Taylor Ward's groundout brought in Niko Kavadas, followed by a Jack López single scoring Stefanic – a quick three-run burst for the Angels! The long ball was the story in the 3rd, with Gustavo Campero connecting for a three-run homer for the Angels, followed by a solo blast from Niko Kavadas! The Rangers chipped away in the 4th when Adolis García scored on a double play hit by Carson Kelly. Wyatt Langford joined the home run party in the 6th with a solo shot. The Angels answered right back when Eric Wagaman scored Kavadas on a fielder's choice thanks to a Rangers' error. Late in the game, Nathaniel Lowe stayed hot, doubling home Matt Duffy in the 8th. Jonah Heim then followed with a triple, scoring Lowe! The 9th inning was wild!  With the bases loaded, Nathaniel Lowe walked in a run, and then Jonathan Ornelas cleared the bases with a single, thanks in part to a throwing error. What an ending!\"\n",
    "    },\n",
    "    {\n",
    "      \"heading\": \"Key Players\",\n",
    "      \"content\": \"Nathaniel Lowe was undoubtedly the offensive star for the Rangers, going yard early and continuing to rake throughout the game with a double and a key walk that forced in a run late. For the Angels, Gustavo Campero had a massive moment with his three-run homer, and Niko Kavadas contributed with a homer of his own. Michael Stefanic also had a solid game, getting on base and driving in a run with a ground-rule double.\"\n",
    "    }\n",
    "  ],\n",
    "  \"links\": [\n",
    "  \"links\": [\n",
    "    \"https://www.mlb.com/video/search?q=playid=\\\"31b683f3-ef2b-41bb-956a-8986bf3bf7fd\\\"\",\n",
    "    \"https://www.mlb.com/video/search?q=playid=\\\"df17ed2e-c97d-4c0c-80b8-9e950e35bc48\\\"\",\n",
    "    \"https://www.mlb.com/video/search?q=playid=\\\"d1b3fceb-defe-43b3-ba06-b3508099658d\\\"\",\n",
    "    \"https://www.mlb.com/video/search?q=playid=\\\"c5ab9947-082a-43cc-afa9-ea18d619cede\\\"\",\n",
    "    \"https://www.mlb.com/video/search?q=playid=\\\"1c79b820-922c-4205-b8d7-e8da3710dbc4\\\"\",\n",
    "    \"https://www.mlb.com/video/search?q=playid=\\\"c5ab9947-082a-43cc-afa9-ea18d619cede\\\"\",\n",
    "    \"https://www.mlb.com/video/search?q=playid=\\\"1c79b820-922c-4205-b8d7-e8da3710dbc4\\\"\",\n",
    "    \"https://www.mlb.com/video/search?q=playid=\\\"8ab3aec7-8936-49fe-9a58-4af7ff036ca1\\\"\",\n",
    "    \"https://www.mlb.com/video/search?q=playid=\\\"1c79b820-922c-4205-b8d7-e8da3710dbc4\\\"\",\n",
    "    \"https://www.mlb.com/video/search?q=playid=\\\"8ab3aec7-8936-49fe-9a58-4af7ff036ca1\\\"\",\n",
    "    \"https://www.mlb.com/video/search?q=playid=\\\"b75e5a9f-eba2-48b5-8644-6fbaf7223614\\\"\",\n",
    "    \"https://www.mlb.com/video/search?q=playid=\\\"8ab3aec7-8936-49fe-9a58-4af7ff036ca1\\\"\",\n",
    "    \"https://www.mlb.com/video/search?q=playid=\\\"b75e5a9f-eba2-48b5-8644-6fbaf7223614\\\"\",\n",
    "    \"https://www.mlb.com/video/search?q=playid=\\\"b75e5a9f-eba2-48b5-8644-6fbaf7223614\\\"\",\n",
    "    \"https://www.mlb.com/video/search?q=playid=\\\"172c0eed-b6af-490d-a0b4-7e76e30cd49c\\\"\",\n",
    "    \"https://www.mlb.com/video/search?q=playid=\\\"172c0eed-b6af-490d-a0b4-7e76e30cd49c\\\"\",\n",
    "    \"https://www.mlb.com/video/search?q=playid=\\\"efbd2be3-1371-45b6-bbfa-167a3f3db9ff\\\"\",\n",
    "    \"https://www.mlb.com/video/search?q=playid=\\\"efbd2be3-1371-45b6-bbfa-167a3f3db9ff\\\"\",\n",
    "    \"https://www.mlb.com/video/search?q=playid=\\\"d2672f64-28ce-4601-9945-f74fea571ffb\\\"\",\n",
    "    \"https://www.mlb.com/video/search?q=playid=\\\"6851abbd-4248-4624-9a58-c869f8a15523\\\"\",\n",
    "    \"https://www.mlb.com/video/search?q=playid=\\\"d2672f64-28ce-4601-9945-f74fea571ffb\\\"\",\n",
    "    \"https://www.mlb.com/video/search?q=playid=\\\"6851abbd-4248-4624-9a58-c869f8a15523\\\"\",\n",
    "    \"https://www.mlb.com/video/search?q=playid=\\\"c3c2ed47-05dc-4d41-8cc5-a677fadedaef\\\"\",\n",
    "    \"https://www.mlb.com/video/search?q=playid=\\\"6851abbd-4248-4624-9a58-c869f8a15523\\\"\",\n",
    "    \"https://www.mlb.com/video/search?q=playid=\\\"c3c2ed47-05dc-4d41-8cc5-a677fadedaef\\\"\",\n",
    "    \"https://www.mlb.com/video/search?q=playid=\\\"c3c2ed47-05dc-4d41-8cc5-a677fadedaef\\\"\",\n",
    "    \"https://www.mlb.com/video/search?q=playid=\\\"a7d97457-b1d1-4dc8-b7f9-ab53a364daa6\\\"\"\n",
    "  ],\n",
    "  \"conclusion\": \"What a rollercoaster of a game! Make sure to click on those highlights above to relive all the big moments. Let us know in the comments which play was your favorite!\"\n",
    "}\n",
    "```\"\"\"\n"
   ]
  },
  {
   "cell_type": "code",
   "execution_count": 20,
   "metadata": {},
   "outputs": [
    {
     "name": "stdout",
     "output_type": "stream",
     "text": [
      "<class 'str'>\n"
     ]
    }
   ],
   "source": [
    "out = reformat_text(text)"
   ]
  },
  {
   "cell_type": "code",
   "execution_count": 21,
   "metadata": {},
   "outputs": [
    {
     "data": {
      "text/plain": [
       "'<re.Match object; span=(8, 4837), match=\\'{\\\\n  \"title\": \"Rangers and Angels Trade Blows in >'"
      ]
     },
     "execution_count": 21,
     "metadata": {},
     "output_type": "execute_result"
    }
   ],
   "source": [
    "out."
   ]
  },
  {
   "cell_type": "code",
   "execution_count": null,
   "metadata": {},
   "outputs": [],
   "source": []
  }
 ],
 "metadata": {
  "kernelspec": {
   "display_name": "Python 3",
   "language": "python",
   "name": "python3"
  },
  "language_info": {
   "codemirror_mode": {
    "name": "ipython",
    "version": 3
   },
   "file_extension": ".py",
   "mimetype": "text/x-python",
   "name": "python",
   "nbconvert_exporter": "python",
   "pygments_lexer": "ipython3",
   "version": "3.10.16"
  }
 },
 "nbformat": 4,
 "nbformat_minor": 2
}
